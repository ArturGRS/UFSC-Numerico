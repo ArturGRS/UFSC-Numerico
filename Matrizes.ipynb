{
 "cells": [
  {
   "cell_type": "markdown",
   "metadata": {},
   "source": [
    "#### Método de Gauss-Seidel"
   ]
  },
  {
   "cell_type": "markdown",
   "metadata": {},
   "source": []
  },
  {
   "cell_type": "code",
   "execution_count": null,
   "metadata": {},
   "outputs": [],
   "source": []
  },
  {
   "cell_type": "markdown",
   "metadata": {},
   "source": [
    "#### Método de Escalonamento"
   ]
  },
  {
   "cell_type": "markdown",
   "metadata": {},
   "source": [
    "Crie um função para realizar a eliminação gaussiana ultilizando a fórmula \n",
    "\n",
    "- $ E_j = E_j - \\frac{a_{ji}}{a_{ii}}E_i $\n",
    "\n",
    "1. Crie uma função para gerar uma uma matriz $ N*N+1 $ com os valores $ C\\ [-9,9] $\n"
   ]
  },
  {
   "cell_type": "code",
   "execution_count": 1,
   "metadata": {},
   "outputs": [],
   "source": [
    "import numpy as np\n",
    "\n",
    "def Sistema_linear_aleatório(N):\n",
    "\n",
    "    Matriz_coeficiente = np.array(np.random.randint(-9,10,size=(N,N)),dtype = float)\n",
    "    Matriz_solução_variaveis = np.array(np.random.randint(-9,10,size=(N,1)),dtype = float)\n",
    "    Matriz_termo_independente = np.dot(Matriz_coeficiente,Matriz_solução_variaveis)\n",
    "    return Matriz_coeficiente, Matriz_solução_variaveis,Matriz_termo_independente\n",
    "\n",
    "#A,B,C = Sistema_linear_aleatório(3)\n",
    "#print(A)\n",
    "#print(B)\n",
    "#print(C)"
   ]
  },
  {
   "cell_type": "code",
   "execution_count": 3,
   "metadata": {},
   "outputs": [],
   "source": [
    "def Gauss(Matriz):\n",
    "    \n",
    "    Matriz = Matriz.astype(float)\n",
    "    linha,coluna = np.shape(Matriz)\n",
    "\n",
    "    for i in range(linha-1):\n",
    "        for j in range(linha-1-i):\n",
    "            m = Matriz[(j+1+i)][i] / Matriz[i][i]\n",
    "            for k in range(coluna):\n",
    "                Matriz[(i+j+1)][k] = Matriz[(i+j+1)][k]  - m * Matriz[i][k]\n",
    "\n",
    "            # 1° Linha    \n",
    "                # M10 / M00\n",
    "                    # M10 = M10 - m * M00\n",
    "                    # M11 = M11 - m * M01\n",
    "                    # M12 = M12 - m * M02\n",
    "                    # M13 = M13 - m * M03\n",
    "                # M20 / M00\n",
    "                    # M20 = M20 - m * M00\n",
    "                    # M21 = M21 - m * M01\n",
    "                    # M22 = M22 - m * M02\n",
    "                    # M23 = M23 - m * M03\n",
    "            #2° Linha\n",
    "                # M21 / M11\n",
    "                    # M21 = M21 - m * M11\n",
    "                    # M22 = M22 - m * M12\n",
    "                    # M23 = M23 - m * M13    \n",
    "\n",
    "    return Matriz"
   ]
  },
  {
   "cell_type": "code",
   "execution_count": 5,
   "metadata": {},
   "outputs": [
    {
     "name": "stdout",
     "output_type": "stream",
     "text": [
      "[[ -2.           1.           7.         -62.        ]\n",
      " [  0.          -3.5         -9.5         64.        ]\n",
      " [  0.           0.           7.42857143 -44.57142857]]\n"
     ]
    }
   ],
   "source": [
    "A,B,C = Sistema_linear_aleatório(3)\n",
    "Matriz_Aumentada = np.column_stack((A,C))\n",
    "\n",
    "print(Gauss(Matriz_Aumentada))"
   ]
  },
  {
   "cell_type": "markdown",
   "metadata": {},
   "source": [
    "### Simulado de prova"
   ]
  },
  {
   "cell_type": "code",
   "execution_count": 32,
   "metadata": {},
   "outputs": [
    {
     "name": "stdout",
     "output_type": "stream",
     "text": [
      "True\n"
     ]
    }
   ],
   "source": [
    "A,B,C = Sistema_linear_aleatório(3)\n",
    "\n",
    "B = list(zip(*A))\n",
    "\n",
    "Contador = 0\n",
    "n = len(A) - 1\n",
    "i = 0\n",
    "while (i <= n):\n",
    "    j= 0\n",
    "    while (j <= n):\n",
    "        \n",
    "        if (A[i][j]==B[j][i]):\n",
    "            Contador += 1\n",
    "        j += 1\n",
    "    i += 1\n",
    "\n",
    "if (Contador == (len(A)*len(A))):\n",
    "    print(\"True\")\n",
    "else:\n",
    "    print(\"False\")\n",
    "\n"
   ]
  }
 ],
 "metadata": {
  "kernelspec": {
   "display_name": "Python 3",
   "language": "python",
   "name": "python3"
  },
  "language_info": {
   "codemirror_mode": {
    "name": "ipython",
    "version": 3
   },
   "file_extension": ".py",
   "mimetype": "text/x-python",
   "name": "python",
   "nbconvert_exporter": "python",
   "pygments_lexer": "ipython3",
   "version": "3.12.5"
  }
 },
 "nbformat": 4,
 "nbformat_minor": 2
}
